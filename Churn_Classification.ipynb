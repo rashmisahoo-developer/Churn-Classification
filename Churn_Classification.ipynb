{
  "nbformat": 4,
  "nbformat_minor": 0,
  "metadata": {
    "colab": {
      "provenance": []
    },
    "kernelspec": {
      "name": "python3",
      "display_name": "Python 3"
    },
    "language_info": {
      "name": "python"
    }
  },
  "cells": [
    {
      "cell_type": "markdown",
      "source": [
        "<h1> Churn Classification</h1>"
      ],
      "metadata": {
        "id": "xmGPRloiexKx"
      }
    },
    {
      "cell_type": "code",
      "execution_count": 1,
      "metadata": {
        "id": "n-FMLyijORT6"
      },
      "outputs": [],
      "source": [
        "import numpy as np\n",
        "import matplotlib.pyplot as plt\n",
        "import pandas as pd"
      ]
    },
    {
      "cell_type": "code",
      "source": [
        "data=pd.read_csv('Churn_Modelling.csv')"
      ],
      "metadata": {
        "id": "wa3wd8gUQy88"
      },
      "execution_count": 2,
      "outputs": []
    },
    {
      "cell_type": "code",
      "source": [
        "data"
      ],
      "metadata": {
        "colab": {
          "base_uri": "https://localhost:8080/",
          "height": 424
        },
        "id": "Ho9mQ6FjQ5rv",
        "outputId": "ec688b22-9f8d-4976-8d09-9bab2336f9c9"
      },
      "execution_count": 3,
      "outputs": [
        {
          "output_type": "execute_result",
          "data": {
            "text/plain": [
              "      RowNumber  CustomerId    Surname  CreditScore Geography  Gender  Age  \\\n",
              "0             1    15634602   Hargrave          619    France  Female   42   \n",
              "1             2    15647311       Hill          608     Spain  Female   41   \n",
              "2             3    15619304       Onio          502    France  Female   42   \n",
              "3             4    15701354       Boni          699    France  Female   39   \n",
              "4             5    15737888   Mitchell          850     Spain  Female   43   \n",
              "...         ...         ...        ...          ...       ...     ...  ...   \n",
              "9995       9996    15606229   Obijiaku          771    France    Male   39   \n",
              "9996       9997    15569892  Johnstone          516    France    Male   35   \n",
              "9997       9998    15584532        Liu          709    France  Female   36   \n",
              "9998       9999    15682355  Sabbatini          772   Germany    Male   42   \n",
              "9999      10000    15628319     Walker          792    France  Female   28   \n",
              "\n",
              "      Tenure    Balance  NumOfProducts  HasCrCard  IsActiveMember  \\\n",
              "0          2       0.00              1          1               1   \n",
              "1          1   83807.86              1          0               1   \n",
              "2          8  159660.80              3          1               0   \n",
              "3          1       0.00              2          0               0   \n",
              "4          2  125510.82              1          1               1   \n",
              "...      ...        ...            ...        ...             ...   \n",
              "9995       5       0.00              2          1               0   \n",
              "9996      10   57369.61              1          1               1   \n",
              "9997       7       0.00              1          0               1   \n",
              "9998       3   75075.31              2          1               0   \n",
              "9999       4  130142.79              1          1               0   \n",
              "\n",
              "      EstimatedSalary  Exited  \n",
              "0           101348.88       1  \n",
              "1           112542.58       0  \n",
              "2           113931.57       1  \n",
              "3            93826.63       0  \n",
              "4            79084.10       0  \n",
              "...               ...     ...  \n",
              "9995         96270.64       0  \n",
              "9996        101699.77       0  \n",
              "9997         42085.58       1  \n",
              "9998         92888.52       1  \n",
              "9999         38190.78       0  \n",
              "\n",
              "[10000 rows x 14 columns]"
            ],
            "text/html": [
              "\n",
              "  <div id=\"df-047960e0-5dc6-4657-97f6-99d8c5066c46\">\n",
              "    <div class=\"colab-df-container\">\n",
              "      <div>\n",
              "<style scoped>\n",
              "    .dataframe tbody tr th:only-of-type {\n",
              "        vertical-align: middle;\n",
              "    }\n",
              "\n",
              "    .dataframe tbody tr th {\n",
              "        vertical-align: top;\n",
              "    }\n",
              "\n",
              "    .dataframe thead th {\n",
              "        text-align: right;\n",
              "    }\n",
              "</style>\n",
              "<table border=\"1\" class=\"dataframe\">\n",
              "  <thead>\n",
              "    <tr style=\"text-align: right;\">\n",
              "      <th></th>\n",
              "      <th>RowNumber</th>\n",
              "      <th>CustomerId</th>\n",
              "      <th>Surname</th>\n",
              "      <th>CreditScore</th>\n",
              "      <th>Geography</th>\n",
              "      <th>Gender</th>\n",
              "      <th>Age</th>\n",
              "      <th>Tenure</th>\n",
              "      <th>Balance</th>\n",
              "      <th>NumOfProducts</th>\n",
              "      <th>HasCrCard</th>\n",
              "      <th>IsActiveMember</th>\n",
              "      <th>EstimatedSalary</th>\n",
              "      <th>Exited</th>\n",
              "    </tr>\n",
              "  </thead>\n",
              "  <tbody>\n",
              "    <tr>\n",
              "      <th>0</th>\n",
              "      <td>1</td>\n",
              "      <td>15634602</td>\n",
              "      <td>Hargrave</td>\n",
              "      <td>619</td>\n",
              "      <td>France</td>\n",
              "      <td>Female</td>\n",
              "      <td>42</td>\n",
              "      <td>2</td>\n",
              "      <td>0.00</td>\n",
              "      <td>1</td>\n",
              "      <td>1</td>\n",
              "      <td>1</td>\n",
              "      <td>101348.88</td>\n",
              "      <td>1</td>\n",
              "    </tr>\n",
              "    <tr>\n",
              "      <th>1</th>\n",
              "      <td>2</td>\n",
              "      <td>15647311</td>\n",
              "      <td>Hill</td>\n",
              "      <td>608</td>\n",
              "      <td>Spain</td>\n",
              "      <td>Female</td>\n",
              "      <td>41</td>\n",
              "      <td>1</td>\n",
              "      <td>83807.86</td>\n",
              "      <td>1</td>\n",
              "      <td>0</td>\n",
              "      <td>1</td>\n",
              "      <td>112542.58</td>\n",
              "      <td>0</td>\n",
              "    </tr>\n",
              "    <tr>\n",
              "      <th>2</th>\n",
              "      <td>3</td>\n",
              "      <td>15619304</td>\n",
              "      <td>Onio</td>\n",
              "      <td>502</td>\n",
              "      <td>France</td>\n",
              "      <td>Female</td>\n",
              "      <td>42</td>\n",
              "      <td>8</td>\n",
              "      <td>159660.80</td>\n",
              "      <td>3</td>\n",
              "      <td>1</td>\n",
              "      <td>0</td>\n",
              "      <td>113931.57</td>\n",
              "      <td>1</td>\n",
              "    </tr>\n",
              "    <tr>\n",
              "      <th>3</th>\n",
              "      <td>4</td>\n",
              "      <td>15701354</td>\n",
              "      <td>Boni</td>\n",
              "      <td>699</td>\n",
              "      <td>France</td>\n",
              "      <td>Female</td>\n",
              "      <td>39</td>\n",
              "      <td>1</td>\n",
              "      <td>0.00</td>\n",
              "      <td>2</td>\n",
              "      <td>0</td>\n",
              "      <td>0</td>\n",
              "      <td>93826.63</td>\n",
              "      <td>0</td>\n",
              "    </tr>\n",
              "    <tr>\n",
              "      <th>4</th>\n",
              "      <td>5</td>\n",
              "      <td>15737888</td>\n",
              "      <td>Mitchell</td>\n",
              "      <td>850</td>\n",
              "      <td>Spain</td>\n",
              "      <td>Female</td>\n",
              "      <td>43</td>\n",
              "      <td>2</td>\n",
              "      <td>125510.82</td>\n",
              "      <td>1</td>\n",
              "      <td>1</td>\n",
              "      <td>1</td>\n",
              "      <td>79084.10</td>\n",
              "      <td>0</td>\n",
              "    </tr>\n",
              "    <tr>\n",
              "      <th>...</th>\n",
              "      <td>...</td>\n",
              "      <td>...</td>\n",
              "      <td>...</td>\n",
              "      <td>...</td>\n",
              "      <td>...</td>\n",
              "      <td>...</td>\n",
              "      <td>...</td>\n",
              "      <td>...</td>\n",
              "      <td>...</td>\n",
              "      <td>...</td>\n",
              "      <td>...</td>\n",
              "      <td>...</td>\n",
              "      <td>...</td>\n",
              "      <td>...</td>\n",
              "    </tr>\n",
              "    <tr>\n",
              "      <th>9995</th>\n",
              "      <td>9996</td>\n",
              "      <td>15606229</td>\n",
              "      <td>Obijiaku</td>\n",
              "      <td>771</td>\n",
              "      <td>France</td>\n",
              "      <td>Male</td>\n",
              "      <td>39</td>\n",
              "      <td>5</td>\n",
              "      <td>0.00</td>\n",
              "      <td>2</td>\n",
              "      <td>1</td>\n",
              "      <td>0</td>\n",
              "      <td>96270.64</td>\n",
              "      <td>0</td>\n",
              "    </tr>\n",
              "    <tr>\n",
              "      <th>9996</th>\n",
              "      <td>9997</td>\n",
              "      <td>15569892</td>\n",
              "      <td>Johnstone</td>\n",
              "      <td>516</td>\n",
              "      <td>France</td>\n",
              "      <td>Male</td>\n",
              "      <td>35</td>\n",
              "      <td>10</td>\n",
              "      <td>57369.61</td>\n",
              "      <td>1</td>\n",
              "      <td>1</td>\n",
              "      <td>1</td>\n",
              "      <td>101699.77</td>\n",
              "      <td>0</td>\n",
              "    </tr>\n",
              "    <tr>\n",
              "      <th>9997</th>\n",
              "      <td>9998</td>\n",
              "      <td>15584532</td>\n",
              "      <td>Liu</td>\n",
              "      <td>709</td>\n",
              "      <td>France</td>\n",
              "      <td>Female</td>\n",
              "      <td>36</td>\n",
              "      <td>7</td>\n",
              "      <td>0.00</td>\n",
              "      <td>1</td>\n",
              "      <td>0</td>\n",
              "      <td>1</td>\n",
              "      <td>42085.58</td>\n",
              "      <td>1</td>\n",
              "    </tr>\n",
              "    <tr>\n",
              "      <th>9998</th>\n",
              "      <td>9999</td>\n",
              "      <td>15682355</td>\n",
              "      <td>Sabbatini</td>\n",
              "      <td>772</td>\n",
              "      <td>Germany</td>\n",
              "      <td>Male</td>\n",
              "      <td>42</td>\n",
              "      <td>3</td>\n",
              "      <td>75075.31</td>\n",
              "      <td>2</td>\n",
              "      <td>1</td>\n",
              "      <td>0</td>\n",
              "      <td>92888.52</td>\n",
              "      <td>1</td>\n",
              "    </tr>\n",
              "    <tr>\n",
              "      <th>9999</th>\n",
              "      <td>10000</td>\n",
              "      <td>15628319</td>\n",
              "      <td>Walker</td>\n",
              "      <td>792</td>\n",
              "      <td>France</td>\n",
              "      <td>Female</td>\n",
              "      <td>28</td>\n",
              "      <td>4</td>\n",
              "      <td>130142.79</td>\n",
              "      <td>1</td>\n",
              "      <td>1</td>\n",
              "      <td>0</td>\n",
              "      <td>38190.78</td>\n",
              "      <td>0</td>\n",
              "    </tr>\n",
              "  </tbody>\n",
              "</table>\n",
              "<p>10000 rows × 14 columns</p>\n",
              "</div>\n",
              "      <button class=\"colab-df-convert\" onclick=\"convertToInteractive('df-047960e0-5dc6-4657-97f6-99d8c5066c46')\"\n",
              "              title=\"Convert this dataframe to an interactive table.\"\n",
              "              style=\"display:none;\">\n",
              "        \n",
              "  <svg xmlns=\"http://www.w3.org/2000/svg\" height=\"24px\"viewBox=\"0 0 24 24\"\n",
              "       width=\"24px\">\n",
              "    <path d=\"M0 0h24v24H0V0z\" fill=\"none\"/>\n",
              "    <path d=\"M18.56 5.44l.94 2.06.94-2.06 2.06-.94-2.06-.94-.94-2.06-.94 2.06-2.06.94zm-11 1L8.5 8.5l.94-2.06 2.06-.94-2.06-.94L8.5 2.5l-.94 2.06-2.06.94zm10 10l.94 2.06.94-2.06 2.06-.94-2.06-.94-.94-2.06-.94 2.06-2.06.94z\"/><path d=\"M17.41 7.96l-1.37-1.37c-.4-.4-.92-.59-1.43-.59-.52 0-1.04.2-1.43.59L10.3 9.45l-7.72 7.72c-.78.78-.78 2.05 0 2.83L4 21.41c.39.39.9.59 1.41.59.51 0 1.02-.2 1.41-.59l7.78-7.78 2.81-2.81c.8-.78.8-2.07 0-2.86zM5.41 20L4 18.59l7.72-7.72 1.47 1.35L5.41 20z\"/>\n",
              "  </svg>\n",
              "      </button>\n",
              "      \n",
              "  <style>\n",
              "    .colab-df-container {\n",
              "      display:flex;\n",
              "      flex-wrap:wrap;\n",
              "      gap: 12px;\n",
              "    }\n",
              "\n",
              "    .colab-df-convert {\n",
              "      background-color: #E8F0FE;\n",
              "      border: none;\n",
              "      border-radius: 50%;\n",
              "      cursor: pointer;\n",
              "      display: none;\n",
              "      fill: #1967D2;\n",
              "      height: 32px;\n",
              "      padding: 0 0 0 0;\n",
              "      width: 32px;\n",
              "    }\n",
              "\n",
              "    .colab-df-convert:hover {\n",
              "      background-color: #E2EBFA;\n",
              "      box-shadow: 0px 1px 2px rgba(60, 64, 67, 0.3), 0px 1px 3px 1px rgba(60, 64, 67, 0.15);\n",
              "      fill: #174EA6;\n",
              "    }\n",
              "\n",
              "    [theme=dark] .colab-df-convert {\n",
              "      background-color: #3B4455;\n",
              "      fill: #D2E3FC;\n",
              "    }\n",
              "\n",
              "    [theme=dark] .colab-df-convert:hover {\n",
              "      background-color: #434B5C;\n",
              "      box-shadow: 0px 1px 3px 1px rgba(0, 0, 0, 0.15);\n",
              "      filter: drop-shadow(0px 1px 2px rgba(0, 0, 0, 0.3));\n",
              "      fill: #FFFFFF;\n",
              "    }\n",
              "  </style>\n",
              "\n",
              "      <script>\n",
              "        const buttonEl =\n",
              "          document.querySelector('#df-047960e0-5dc6-4657-97f6-99d8c5066c46 button.colab-df-convert');\n",
              "        buttonEl.style.display =\n",
              "          google.colab.kernel.accessAllowed ? 'block' : 'none';\n",
              "\n",
              "        async function convertToInteractive(key) {\n",
              "          const element = document.querySelector('#df-047960e0-5dc6-4657-97f6-99d8c5066c46');\n",
              "          const dataTable =\n",
              "            await google.colab.kernel.invokeFunction('convertToInteractive',\n",
              "                                                     [key], {});\n",
              "          if (!dataTable) return;\n",
              "\n",
              "          const docLinkHtml = 'Like what you see? Visit the ' +\n",
              "            '<a target=\"_blank\" href=https://colab.research.google.com/notebooks/data_table.ipynb>data table notebook</a>'\n",
              "            + ' to learn more about interactive tables.';\n",
              "          element.innerHTML = '';\n",
              "          dataTable['output_type'] = 'display_data';\n",
              "          await google.colab.output.renderOutput(dataTable, element);\n",
              "          const docLink = document.createElement('div');\n",
              "          docLink.innerHTML = docLinkHtml;\n",
              "          element.appendChild(docLink);\n",
              "        }\n",
              "      </script>\n",
              "    </div>\n",
              "  </div>\n",
              "  "
            ]
          },
          "metadata": {},
          "execution_count": 3
        }
      ]
    },
    {
      "cell_type": "code",
      "source": [
        "x=data.iloc[:,3:13].values\n",
        "y=data.iloc[:,13].values"
      ],
      "metadata": {
        "id": "mZNXCWJcQ7sn"
      },
      "execution_count": 7,
      "outputs": []
    },
    {
      "cell_type": "code",
      "source": [
        "print(x)"
      ],
      "metadata": {
        "colab": {
          "base_uri": "https://localhost:8080/"
        },
        "id": "DcVjocUERU-M",
        "outputId": "f7f58e78-bdad-4031-d009-ac4abb3f6a92"
      },
      "execution_count": 8,
      "outputs": [
        {
          "output_type": "stream",
          "name": "stdout",
          "text": [
            "[[619 'France' 'Female' ... 1 1 101348.88]\n",
            " [608 'Spain' 'Female' ... 0 1 112542.58]\n",
            " [502 'France' 'Female' ... 1 0 113931.57]\n",
            " ...\n",
            " [709 'France' 'Female' ... 0 1 42085.58]\n",
            " [772 'Germany' 'Male' ... 1 0 92888.52]\n",
            " [792 'France' 'Female' ... 1 0 38190.78]]\n"
          ]
        }
      ]
    },
    {
      "cell_type": "code",
      "source": [
        "print(y)"
      ],
      "metadata": {
        "colab": {
          "base_uri": "https://localhost:8080/"
        },
        "id": "0yzgepX-R2K0",
        "outputId": "97076847-7120-4af8-9cf1-b4976289b374"
      },
      "execution_count": 9,
      "outputs": [
        {
          "output_type": "stream",
          "name": "stdout",
          "text": [
            "[1 0 1 ... 1 1 0]\n"
          ]
        }
      ]
    },
    {
      "cell_type": "code",
      "source": [
        "from sklearn.preprocessing import LabelEncoder,OneHotEncoder\n",
        "label=LabelEncoder()\n",
        "x[:,2]=label.fit_transform(x[:,2])\n",
        "print(x)"
      ],
      "metadata": {
        "colab": {
          "base_uri": "https://localhost:8080/"
        },
        "id": "DtKAOUR2R914",
        "outputId": "441a29e0-bd15-4cc0-bf87-aa69b9f9e5df"
      },
      "execution_count": 15,
      "outputs": [
        {
          "output_type": "stream",
          "name": "stdout",
          "text": [
            "[[619 'France' 0 ... 1 1 101348.88]\n",
            " [608 'Spain' 0 ... 0 1 112542.58]\n",
            " [502 'France' 0 ... 1 0 113931.57]\n",
            " ...\n",
            " [709 'France' 0 ... 0 1 42085.58]\n",
            " [772 'Germany' 1 ... 1 0 92888.52]\n",
            " [792 'France' 0 ... 1 0 38190.78]]\n"
          ]
        }
      ]
    },
    {
      "cell_type": "code",
      "source": [
        "from sklearn.compose import ColumnTransformer\n",
        "ct=ColumnTransformer([('ohe',OneHotEncoder(),[1])],remainder='passthrough')"
      ],
      "metadata": {
        "id": "TY_utdmxTNP_"
      },
      "execution_count": 23,
      "outputs": []
    },
    {
      "cell_type": "code",
      "source": [
        "x=np.array(ct.fit_transform(x),dtype=np.str)"
      ],
      "metadata": {
        "colab": {
          "base_uri": "https://localhost:8080/"
        },
        "id": "HmQsZXvIUWwN",
        "outputId": "62d0f198-c512-46d7-869e-576c2c68daba"
      },
      "execution_count": 24,
      "outputs": [
        {
          "output_type": "stream",
          "name": "stderr",
          "text": [
            "<ipython-input-24-dca8c2576440>:1: DeprecationWarning: `np.str` is a deprecated alias for the builtin `str`. To silence this warning, use `str` by itself. Doing this will not modify any behavior and is safe. If you specifically wanted the numpy scalar type, use `np.str_` here.\n",
            "Deprecated in NumPy 1.20; for more details and guidance: https://numpy.org/devdocs/release/1.20.0-notes.html#deprecations\n",
            "  x=np.array(ct.fit_transform(x),dtype=np.str)\n"
          ]
        }
      ]
    },
    {
      "cell_type": "code",
      "source": [
        "x=x[:,1:]"
      ],
      "metadata": {
        "id": "nMv8NdZtUzWG"
      },
      "execution_count": 25,
      "outputs": []
    },
    {
      "cell_type": "code",
      "source": [
        "print(x)"
      ],
      "metadata": {
        "colab": {
          "base_uri": "https://localhost:8080/"
        },
        "id": "MTIRJKyRU13q",
        "outputId": "0e227775-7e0e-49b3-8549-a9b415c40012"
      },
      "execution_count": 26,
      "outputs": [
        {
          "output_type": "stream",
          "name": "stdout",
          "text": [
            "[['0.0' '0.0' '0.0' ... '1' '1' '101348.88']\n",
            " ['0.0' '1.0' '0.0' ... '0' '1' '112542.58']\n",
            " ['0.0' '0.0' '0.0' ... '1' '0' '113931.57']\n",
            " ...\n",
            " ['0.0' '0.0' '0.0' ... '0' '1' '42085.58']\n",
            " ['1.0' '0.0' '1.0' ... '1' '0' '92888.52']\n",
            " ['0.0' '0.0' '0.0' ... '1' '0' '38190.78']]\n"
          ]
        }
      ]
    },
    {
      "cell_type": "code",
      "source": [
        "from sklearn.model_selection import train_test_split\n",
        "xtrain,xtest,ytrain,ytest=train_test_split(x,y,test_size=0.2,random_state=0)"
      ],
      "metadata": {
        "id": "sP6UaySyVThS"
      },
      "execution_count": 27,
      "outputs": []
    },
    {
      "cell_type": "code",
      "source": [
        "from sklearn.preprocessing import StandardScaler\n",
        "sc=StandardScaler()\n",
        "xtrain=sc.fit_transform(xtrain)\n",
        "xtest=sc.transform(xtest)"
      ],
      "metadata": {
        "id": "KCttQQgsWORt"
      },
      "execution_count": 29,
      "outputs": []
    },
    {
      "cell_type": "code",
      "source": [
        "pd.DataFrame(xtest)"
      ],
      "metadata": {
        "colab": {
          "base_uri": "https://localhost:8080/",
          "height": 424
        },
        "id": "Y6qpeMwZWuqI",
        "outputId": "84176e70-95d1-4d16-ac65-8bca32f01980"
      },
      "execution_count": 42,
      "outputs": [
        {
          "output_type": "execute_result",
          "data": {
            "text/plain": [
              "             0         1         2         3         4         5         6  \\\n",
              "0     1.627770 -0.574271 -1.113392 -0.394017  0.986971  0.859622 -0.873377   \n",
              "1    -0.614337 -0.574271 -1.113392  0.076114 -1.084321  0.403122 -0.873377   \n",
              "2    -0.614337  1.741338 -1.113392  0.264167  0.986971  0.280118 -0.873377   \n",
              "3    -0.614337 -0.574271  0.898156 -0.676096 -0.393891  0.550977 -0.873377   \n",
              "4     1.627770 -0.574271  0.898156 -0.111938 -0.048675  1.377783  0.801363   \n",
              "...        ...       ...       ...       ...       ...       ...       ...   \n",
              "1995 -0.614337 -0.574271 -1.113392 -1.428306 -1.429537 -1.267641  0.801363   \n",
              "1996 -0.614337 -0.574271 -1.113392 -0.394017  0.641755 -1.267641  0.801363   \n",
              "1997 -0.614337  1.741338  0.898156 -0.299991 -1.429537  1.284209  0.801363   \n",
              "1998  1.627770 -0.574271  0.898156 -0.488043 -0.393891  1.042848 -0.873377   \n",
              "1999  1.627770 -0.574271  0.898156 -0.864148  0.986971  0.799674 -0.873377   \n",
              "\n",
              "             7         8         9  \n",
              "0     0.660114  0.976281  1.621859  \n",
              "1     0.660114 -1.024295  0.504204  \n",
              "2     0.660114  0.976281 -0.418656  \n",
              "3    -1.514890 -1.024295 -0.181079  \n",
              "4     0.660114  0.976281  0.625465  \n",
              "...        ...       ...       ...  \n",
              "1995  0.660114  0.976281  1.414827  \n",
              "1996  0.660114 -1.024295 -0.505273  \n",
              "1997  0.660114 -1.024295  0.727752  \n",
              "1998  0.660114  0.976281 -1.541629  \n",
              "1999  0.660114 -1.024295  1.623565  \n",
              "\n",
              "[2000 rows x 10 columns]"
            ],
            "text/html": [
              "\n",
              "  <div id=\"df-29d64ea3-d1d0-4b5e-b271-40c3ab4822ce\">\n",
              "    <div class=\"colab-df-container\">\n",
              "      <div>\n",
              "<style scoped>\n",
              "    .dataframe tbody tr th:only-of-type {\n",
              "        vertical-align: middle;\n",
              "    }\n",
              "\n",
              "    .dataframe tbody tr th {\n",
              "        vertical-align: top;\n",
              "    }\n",
              "\n",
              "    .dataframe thead th {\n",
              "        text-align: right;\n",
              "    }\n",
              "</style>\n",
              "<table border=\"1\" class=\"dataframe\">\n",
              "  <thead>\n",
              "    <tr style=\"text-align: right;\">\n",
              "      <th></th>\n",
              "      <th>0</th>\n",
              "      <th>1</th>\n",
              "      <th>2</th>\n",
              "      <th>3</th>\n",
              "      <th>4</th>\n",
              "      <th>5</th>\n",
              "      <th>6</th>\n",
              "      <th>7</th>\n",
              "      <th>8</th>\n",
              "      <th>9</th>\n",
              "    </tr>\n",
              "  </thead>\n",
              "  <tbody>\n",
              "    <tr>\n",
              "      <th>0</th>\n",
              "      <td>1.627770</td>\n",
              "      <td>-0.574271</td>\n",
              "      <td>-1.113392</td>\n",
              "      <td>-0.394017</td>\n",
              "      <td>0.986971</td>\n",
              "      <td>0.859622</td>\n",
              "      <td>-0.873377</td>\n",
              "      <td>0.660114</td>\n",
              "      <td>0.976281</td>\n",
              "      <td>1.621859</td>\n",
              "    </tr>\n",
              "    <tr>\n",
              "      <th>1</th>\n",
              "      <td>-0.614337</td>\n",
              "      <td>-0.574271</td>\n",
              "      <td>-1.113392</td>\n",
              "      <td>0.076114</td>\n",
              "      <td>-1.084321</td>\n",
              "      <td>0.403122</td>\n",
              "      <td>-0.873377</td>\n",
              "      <td>0.660114</td>\n",
              "      <td>-1.024295</td>\n",
              "      <td>0.504204</td>\n",
              "    </tr>\n",
              "    <tr>\n",
              "      <th>2</th>\n",
              "      <td>-0.614337</td>\n",
              "      <td>1.741338</td>\n",
              "      <td>-1.113392</td>\n",
              "      <td>0.264167</td>\n",
              "      <td>0.986971</td>\n",
              "      <td>0.280118</td>\n",
              "      <td>-0.873377</td>\n",
              "      <td>0.660114</td>\n",
              "      <td>0.976281</td>\n",
              "      <td>-0.418656</td>\n",
              "    </tr>\n",
              "    <tr>\n",
              "      <th>3</th>\n",
              "      <td>-0.614337</td>\n",
              "      <td>-0.574271</td>\n",
              "      <td>0.898156</td>\n",
              "      <td>-0.676096</td>\n",
              "      <td>-0.393891</td>\n",
              "      <td>0.550977</td>\n",
              "      <td>-0.873377</td>\n",
              "      <td>-1.514890</td>\n",
              "      <td>-1.024295</td>\n",
              "      <td>-0.181079</td>\n",
              "    </tr>\n",
              "    <tr>\n",
              "      <th>4</th>\n",
              "      <td>1.627770</td>\n",
              "      <td>-0.574271</td>\n",
              "      <td>0.898156</td>\n",
              "      <td>-0.111938</td>\n",
              "      <td>-0.048675</td>\n",
              "      <td>1.377783</td>\n",
              "      <td>0.801363</td>\n",
              "      <td>0.660114</td>\n",
              "      <td>0.976281</td>\n",
              "      <td>0.625465</td>\n",
              "    </tr>\n",
              "    <tr>\n",
              "      <th>...</th>\n",
              "      <td>...</td>\n",
              "      <td>...</td>\n",
              "      <td>...</td>\n",
              "      <td>...</td>\n",
              "      <td>...</td>\n",
              "      <td>...</td>\n",
              "      <td>...</td>\n",
              "      <td>...</td>\n",
              "      <td>...</td>\n",
              "      <td>...</td>\n",
              "    </tr>\n",
              "    <tr>\n",
              "      <th>1995</th>\n",
              "      <td>-0.614337</td>\n",
              "      <td>-0.574271</td>\n",
              "      <td>-1.113392</td>\n",
              "      <td>-1.428306</td>\n",
              "      <td>-1.429537</td>\n",
              "      <td>-1.267641</td>\n",
              "      <td>0.801363</td>\n",
              "      <td>0.660114</td>\n",
              "      <td>0.976281</td>\n",
              "      <td>1.414827</td>\n",
              "    </tr>\n",
              "    <tr>\n",
              "      <th>1996</th>\n",
              "      <td>-0.614337</td>\n",
              "      <td>-0.574271</td>\n",
              "      <td>-1.113392</td>\n",
              "      <td>-0.394017</td>\n",
              "      <td>0.641755</td>\n",
              "      <td>-1.267641</td>\n",
              "      <td>0.801363</td>\n",
              "      <td>0.660114</td>\n",
              "      <td>-1.024295</td>\n",
              "      <td>-0.505273</td>\n",
              "    </tr>\n",
              "    <tr>\n",
              "      <th>1997</th>\n",
              "      <td>-0.614337</td>\n",
              "      <td>1.741338</td>\n",
              "      <td>0.898156</td>\n",
              "      <td>-0.299991</td>\n",
              "      <td>-1.429537</td>\n",
              "      <td>1.284209</td>\n",
              "      <td>0.801363</td>\n",
              "      <td>0.660114</td>\n",
              "      <td>-1.024295</td>\n",
              "      <td>0.727752</td>\n",
              "    </tr>\n",
              "    <tr>\n",
              "      <th>1998</th>\n",
              "      <td>1.627770</td>\n",
              "      <td>-0.574271</td>\n",
              "      <td>0.898156</td>\n",
              "      <td>-0.488043</td>\n",
              "      <td>-0.393891</td>\n",
              "      <td>1.042848</td>\n",
              "      <td>-0.873377</td>\n",
              "      <td>0.660114</td>\n",
              "      <td>0.976281</td>\n",
              "      <td>-1.541629</td>\n",
              "    </tr>\n",
              "    <tr>\n",
              "      <th>1999</th>\n",
              "      <td>1.627770</td>\n",
              "      <td>-0.574271</td>\n",
              "      <td>0.898156</td>\n",
              "      <td>-0.864148</td>\n",
              "      <td>0.986971</td>\n",
              "      <td>0.799674</td>\n",
              "      <td>-0.873377</td>\n",
              "      <td>0.660114</td>\n",
              "      <td>-1.024295</td>\n",
              "      <td>1.623565</td>\n",
              "    </tr>\n",
              "  </tbody>\n",
              "</table>\n",
              "<p>2000 rows × 10 columns</p>\n",
              "</div>\n",
              "      <button class=\"colab-df-convert\" onclick=\"convertToInteractive('df-29d64ea3-d1d0-4b5e-b271-40c3ab4822ce')\"\n",
              "              title=\"Convert this dataframe to an interactive table.\"\n",
              "              style=\"display:none;\">\n",
              "        \n",
              "  <svg xmlns=\"http://www.w3.org/2000/svg\" height=\"24px\"viewBox=\"0 0 24 24\"\n",
              "       width=\"24px\">\n",
              "    <path d=\"M0 0h24v24H0V0z\" fill=\"none\"/>\n",
              "    <path d=\"M18.56 5.44l.94 2.06.94-2.06 2.06-.94-2.06-.94-.94-2.06-.94 2.06-2.06.94zm-11 1L8.5 8.5l.94-2.06 2.06-.94-2.06-.94L8.5 2.5l-.94 2.06-2.06.94zm10 10l.94 2.06.94-2.06 2.06-.94-2.06-.94-.94-2.06-.94 2.06-2.06.94z\"/><path d=\"M17.41 7.96l-1.37-1.37c-.4-.4-.92-.59-1.43-.59-.52 0-1.04.2-1.43.59L10.3 9.45l-7.72 7.72c-.78.78-.78 2.05 0 2.83L4 21.41c.39.39.9.59 1.41.59.51 0 1.02-.2 1.41-.59l7.78-7.78 2.81-2.81c.8-.78.8-2.07 0-2.86zM5.41 20L4 18.59l7.72-7.72 1.47 1.35L5.41 20z\"/>\n",
              "  </svg>\n",
              "      </button>\n",
              "      \n",
              "  <style>\n",
              "    .colab-df-container {\n",
              "      display:flex;\n",
              "      flex-wrap:wrap;\n",
              "      gap: 12px;\n",
              "    }\n",
              "\n",
              "    .colab-df-convert {\n",
              "      background-color: #E8F0FE;\n",
              "      border: none;\n",
              "      border-radius: 50%;\n",
              "      cursor: pointer;\n",
              "      display: none;\n",
              "      fill: #1967D2;\n",
              "      height: 32px;\n",
              "      padding: 0 0 0 0;\n",
              "      width: 32px;\n",
              "    }\n",
              "\n",
              "    .colab-df-convert:hover {\n",
              "      background-color: #E2EBFA;\n",
              "      box-shadow: 0px 1px 2px rgba(60, 64, 67, 0.3), 0px 1px 3px 1px rgba(60, 64, 67, 0.15);\n",
              "      fill: #174EA6;\n",
              "    }\n",
              "\n",
              "    [theme=dark] .colab-df-convert {\n",
              "      background-color: #3B4455;\n",
              "      fill: #D2E3FC;\n",
              "    }\n",
              "\n",
              "    [theme=dark] .colab-df-convert:hover {\n",
              "      background-color: #434B5C;\n",
              "      box-shadow: 0px 1px 3px 1px rgba(0, 0, 0, 0.15);\n",
              "      filter: drop-shadow(0px 1px 2px rgba(0, 0, 0, 0.3));\n",
              "      fill: #FFFFFF;\n",
              "    }\n",
              "  </style>\n",
              "\n",
              "      <script>\n",
              "        const buttonEl =\n",
              "          document.querySelector('#df-29d64ea3-d1d0-4b5e-b271-40c3ab4822ce button.colab-df-convert');\n",
              "        buttonEl.style.display =\n",
              "          google.colab.kernel.accessAllowed ? 'block' : 'none';\n",
              "\n",
              "        async function convertToInteractive(key) {\n",
              "          const element = document.querySelector('#df-29d64ea3-d1d0-4b5e-b271-40c3ab4822ce');\n",
              "          const dataTable =\n",
              "            await google.colab.kernel.invokeFunction('convertToInteractive',\n",
              "                                                     [key], {});\n",
              "          if (!dataTable) return;\n",
              "\n",
              "          const docLinkHtml = 'Like what you see? Visit the ' +\n",
              "            '<a target=\"_blank\" href=https://colab.research.google.com/notebooks/data_table.ipynb>data table notebook</a>'\n",
              "            + ' to learn more about interactive tables.';\n",
              "          element.innerHTML = '';\n",
              "          dataTable['output_type'] = 'display_data';\n",
              "          await google.colab.output.renderOutput(dataTable, element);\n",
              "          const docLink = document.createElement('div');\n",
              "          docLink.innerHTML = docLinkHtml;\n",
              "          element.appendChild(docLink);\n",
              "        }\n",
              "      </script>\n",
              "    </div>\n",
              "  </div>\n",
              "  "
            ]
          },
          "metadata": {},
          "execution_count": 42
        }
      ]
    },
    {
      "cell_type": "code",
      "source": [
        "from tensorflow.keras.models import Sequential\n",
        "from tensorflow.keras.layers import Dense,Flatten"
      ],
      "metadata": {
        "id": "DF-cLEdEXCzH"
      },
      "execution_count": 50,
      "outputs": []
    },
    {
      "cell_type": "code",
      "source": [
        "classifier=Sequential()\n",
        "classifier.add(Flatten())"
      ],
      "metadata": {
        "id": "TWuaoUJsX3Kt"
      },
      "execution_count": 52,
      "outputs": []
    },
    {
      "cell_type": "code",
      "source": [
        "classifier.add(Dense(units=6,kernel_initializer='uniform',activation='relu',input_dim=11))"
      ],
      "metadata": {
        "id": "Vn-u9p-vX7Zl"
      },
      "execution_count": 53,
      "outputs": []
    },
    {
      "cell_type": "code",
      "source": [
        "classifier.add(Dense(units=6,kernel_initializer='uniform',activation='relu'))"
      ],
      "metadata": {
        "id": "pfzSPgzVYuHy"
      },
      "execution_count": 54,
      "outputs": []
    },
    {
      "cell_type": "code",
      "source": [
        "classifier.add(Dense(units=1,kernel_initializer='uniform',activation='sigmoid'))"
      ],
      "metadata": {
        "id": "HuIi3jl-ZEdN"
      },
      "execution_count": 55,
      "outputs": []
    },
    {
      "cell_type": "code",
      "source": [
        "classifier.compile(optimizer='adam',loss='binary_crossentropy',metrics=['accuracy'])\n",
        "# adam perform stchastic gradient descent techniques"
      ],
      "metadata": {
        "id": "sRFpkRQcZfyC"
      },
      "execution_count": 56,
      "outputs": []
    },
    {
      "cell_type": "code",
      "source": [
        "classifier.fit(xtrain,ytrain,batch_size=10,epochs=100)"
      ],
      "metadata": {
        "colab": {
          "base_uri": "https://localhost:8080/"
        },
        "id": "a4VLxX4DZ4ls",
        "outputId": "7148bf27-d1bf-48cc-999e-028d8b47456f"
      },
      "execution_count": 57,
      "outputs": [
        {
          "output_type": "stream",
          "name": "stdout",
          "text": [
            "Epoch 1/100\n",
            "800/800 [==============================] - 2s 1ms/step - loss: 0.4836 - accuracy: 0.7960\n",
            "Epoch 2/100\n",
            "800/800 [==============================] - 1s 1ms/step - loss: 0.4246 - accuracy: 0.7960\n",
            "Epoch 3/100\n",
            "800/800 [==============================] - 1s 1ms/step - loss: 0.4191 - accuracy: 0.7985\n",
            "Epoch 4/100\n",
            "800/800 [==============================] - 1s 1ms/step - loss: 0.4124 - accuracy: 0.8242\n",
            "Epoch 5/100\n",
            "800/800 [==============================] - 1s 1ms/step - loss: 0.4028 - accuracy: 0.8301\n",
            "Epoch 6/100\n",
            "800/800 [==============================] - 1s 2ms/step - loss: 0.3936 - accuracy: 0.8292\n",
            "Epoch 7/100\n",
            "800/800 [==============================] - 1s 1ms/step - loss: 0.3862 - accuracy: 0.8363\n",
            "Epoch 8/100\n",
            "800/800 [==============================] - 1s 1ms/step - loss: 0.3798 - accuracy: 0.8425\n",
            "Epoch 9/100\n",
            "800/800 [==============================] - 1s 1ms/step - loss: 0.3750 - accuracy: 0.8464\n",
            "Epoch 10/100\n",
            "800/800 [==============================] - 1s 1ms/step - loss: 0.3725 - accuracy: 0.8497\n",
            "Epoch 11/100\n",
            "800/800 [==============================] - 1s 1ms/step - loss: 0.3692 - accuracy: 0.8491\n",
            "Epoch 12/100\n",
            "800/800 [==============================] - 1s 1ms/step - loss: 0.3672 - accuracy: 0.8509\n",
            "Epoch 13/100\n",
            "800/800 [==============================] - 1s 1ms/step - loss: 0.3661 - accuracy: 0.8528\n",
            "Epoch 14/100\n",
            "800/800 [==============================] - 1s 1ms/step - loss: 0.3645 - accuracy: 0.8497\n",
            "Epoch 15/100\n",
            "800/800 [==============================] - 1s 1ms/step - loss: 0.3627 - accuracy: 0.8555\n",
            "Epoch 16/100\n",
            "800/800 [==============================] - 1s 1ms/step - loss: 0.3619 - accuracy: 0.8510\n",
            "Epoch 17/100\n",
            "800/800 [==============================] - 1s 1ms/step - loss: 0.3609 - accuracy: 0.8536\n",
            "Epoch 18/100\n",
            "800/800 [==============================] - 1s 1ms/step - loss: 0.3587 - accuracy: 0.8533\n",
            "Epoch 19/100\n",
            "800/800 [==============================] - 1s 1ms/step - loss: 0.3575 - accuracy: 0.8565\n",
            "Epoch 20/100\n",
            "800/800 [==============================] - 1s 1ms/step - loss: 0.3566 - accuracy: 0.8561\n",
            "Epoch 21/100\n",
            "800/800 [==============================] - 1s 1ms/step - loss: 0.3552 - accuracy: 0.8568\n",
            "Epoch 22/100\n",
            "800/800 [==============================] - 1s 1ms/step - loss: 0.3545 - accuracy: 0.8584\n",
            "Epoch 23/100\n",
            "800/800 [==============================] - 1s 1ms/step - loss: 0.3527 - accuracy: 0.8581\n",
            "Epoch 24/100\n",
            "800/800 [==============================] - 1s 1ms/step - loss: 0.3523 - accuracy: 0.8589\n",
            "Epoch 25/100\n",
            "800/800 [==============================] - 1s 1ms/step - loss: 0.3521 - accuracy: 0.8595\n",
            "Epoch 26/100\n",
            "800/800 [==============================] - 1s 1ms/step - loss: 0.3515 - accuracy: 0.8589\n",
            "Epoch 27/100\n",
            "800/800 [==============================] - 2s 2ms/step - loss: 0.3512 - accuracy: 0.8590\n",
            "Epoch 28/100\n",
            "800/800 [==============================] - 1s 1ms/step - loss: 0.3510 - accuracy: 0.8556\n",
            "Epoch 29/100\n",
            "800/800 [==============================] - 2s 2ms/step - loss: 0.3499 - accuracy: 0.8581\n",
            "Epoch 30/100\n",
            "800/800 [==============================] - 2s 2ms/step - loss: 0.3487 - accuracy: 0.8591\n",
            "Epoch 31/100\n",
            "800/800 [==============================] - 1s 2ms/step - loss: 0.3489 - accuracy: 0.8586\n",
            "Epoch 32/100\n",
            "800/800 [==============================] - 2s 2ms/step - loss: 0.3489 - accuracy: 0.8594\n",
            "Epoch 33/100\n",
            "800/800 [==============================] - 1s 1ms/step - loss: 0.3482 - accuracy: 0.8569\n",
            "Epoch 34/100\n",
            "800/800 [==============================] - 1s 1ms/step - loss: 0.3483 - accuracy: 0.8593\n",
            "Epoch 35/100\n",
            "800/800 [==============================] - 2s 2ms/step - loss: 0.3482 - accuracy: 0.8579\n",
            "Epoch 36/100\n",
            "800/800 [==============================] - 1s 1ms/step - loss: 0.3471 - accuracy: 0.8596\n",
            "Epoch 37/100\n",
            "800/800 [==============================] - 1s 1ms/step - loss: 0.3481 - accuracy: 0.8577\n",
            "Epoch 38/100\n",
            "800/800 [==============================] - 1s 1ms/step - loss: 0.3478 - accuracy: 0.8601\n",
            "Epoch 39/100\n",
            "800/800 [==============================] - 2s 2ms/step - loss: 0.3482 - accuracy: 0.8584\n",
            "Epoch 40/100\n",
            "800/800 [==============================] - 2s 2ms/step - loss: 0.3476 - accuracy: 0.8581\n",
            "Epoch 41/100\n",
            "800/800 [==============================] - 1s 1ms/step - loss: 0.3466 - accuracy: 0.8597\n",
            "Epoch 42/100\n",
            "800/800 [==============================] - 1s 2ms/step - loss: 0.3475 - accuracy: 0.8583\n",
            "Epoch 43/100\n",
            "800/800 [==============================] - 2s 2ms/step - loss: 0.3469 - accuracy: 0.8587\n",
            "Epoch 44/100\n",
            "800/800 [==============================] - 2s 2ms/step - loss: 0.3479 - accuracy: 0.8595\n",
            "Epoch 45/100\n",
            "800/800 [==============================] - 2s 2ms/step - loss: 0.3474 - accuracy: 0.8594\n",
            "Epoch 46/100\n",
            "800/800 [==============================] - 2s 2ms/step - loss: 0.3470 - accuracy: 0.8590\n",
            "Epoch 47/100\n",
            "800/800 [==============================] - 2s 2ms/step - loss: 0.3466 - accuracy: 0.8571\n",
            "Epoch 48/100\n",
            "800/800 [==============================] - 2s 2ms/step - loss: 0.3463 - accuracy: 0.8579\n",
            "Epoch 49/100\n",
            "800/800 [==============================] - 2s 2ms/step - loss: 0.3467 - accuracy: 0.8597\n",
            "Epoch 50/100\n",
            "800/800 [==============================] - 1s 2ms/step - loss: 0.3456 - accuracy: 0.8587\n",
            "Epoch 51/100\n",
            "800/800 [==============================] - 1s 2ms/step - loss: 0.3464 - accuracy: 0.8571\n",
            "Epoch 52/100\n",
            "800/800 [==============================] - 1s 1ms/step - loss: 0.3462 - accuracy: 0.8579\n",
            "Epoch 53/100\n",
            "800/800 [==============================] - 2s 2ms/step - loss: 0.3466 - accuracy: 0.8587\n",
            "Epoch 54/100\n",
            "800/800 [==============================] - 1s 1ms/step - loss: 0.3462 - accuracy: 0.8584\n",
            "Epoch 55/100\n",
            "800/800 [==============================] - 1s 1ms/step - loss: 0.3464 - accuracy: 0.8590\n",
            "Epoch 56/100\n",
            "800/800 [==============================] - 1s 1ms/step - loss: 0.3449 - accuracy: 0.8584\n",
            "Epoch 57/100\n",
            "800/800 [==============================] - 2s 2ms/step - loss: 0.3452 - accuracy: 0.8590\n",
            "Epoch 58/100\n",
            "800/800 [==============================] - 3s 4ms/step - loss: 0.3461 - accuracy: 0.8587\n",
            "Epoch 59/100\n",
            "800/800 [==============================] - 1s 2ms/step - loss: 0.3455 - accuracy: 0.8605\n",
            "Epoch 60/100\n",
            "800/800 [==============================] - 2s 2ms/step - loss: 0.3458 - accuracy: 0.8581\n",
            "Epoch 61/100\n",
            "800/800 [==============================] - 2s 2ms/step - loss: 0.3450 - accuracy: 0.8595\n",
            "Epoch 62/100\n",
            "800/800 [==============================] - 1s 2ms/step - loss: 0.3452 - accuracy: 0.8593\n",
            "Epoch 63/100\n",
            "800/800 [==============================] - 1s 1ms/step - loss: 0.3450 - accuracy: 0.8586\n",
            "Epoch 64/100\n",
            "800/800 [==============================] - 1s 1ms/step - loss: 0.3459 - accuracy: 0.8585\n",
            "Epoch 65/100\n",
            "800/800 [==============================] - 1s 1ms/step - loss: 0.3460 - accuracy: 0.8591\n",
            "Epoch 66/100\n",
            "800/800 [==============================] - 1s 1ms/step - loss: 0.3451 - accuracy: 0.8601\n",
            "Epoch 67/100\n",
            "800/800 [==============================] - 1s 1ms/step - loss: 0.3461 - accuracy: 0.8576\n",
            "Epoch 68/100\n",
            "800/800 [==============================] - 1s 2ms/step - loss: 0.3456 - accuracy: 0.8591\n",
            "Epoch 69/100\n",
            "800/800 [==============================] - 1s 1ms/step - loss: 0.3453 - accuracy: 0.8593\n",
            "Epoch 70/100\n",
            "800/800 [==============================] - 1s 1ms/step - loss: 0.3454 - accuracy: 0.8604\n",
            "Epoch 71/100\n",
            "800/800 [==============================] - 1s 1ms/step - loss: 0.3451 - accuracy: 0.8587\n",
            "Epoch 72/100\n",
            "800/800 [==============================] - 1s 1ms/step - loss: 0.3441 - accuracy: 0.8585\n",
            "Epoch 73/100\n",
            "800/800 [==============================] - 1s 2ms/step - loss: 0.3443 - accuracy: 0.8594\n",
            "Epoch 74/100\n",
            "800/800 [==============================] - 2s 2ms/step - loss: 0.3457 - accuracy: 0.8585\n",
            "Epoch 75/100\n",
            "800/800 [==============================] - 2s 2ms/step - loss: 0.3439 - accuracy: 0.8595\n",
            "Epoch 76/100\n",
            "800/800 [==============================] - 2s 2ms/step - loss: 0.3446 - accuracy: 0.8594\n",
            "Epoch 77/100\n",
            "800/800 [==============================] - 2s 2ms/step - loss: 0.3448 - accuracy: 0.8586\n",
            "Epoch 78/100\n",
            "800/800 [==============================] - 2s 2ms/step - loss: 0.3448 - accuracy: 0.8595\n",
            "Epoch 79/100\n",
            "800/800 [==============================] - 3s 4ms/step - loss: 0.3432 - accuracy: 0.8602\n",
            "Epoch 80/100\n",
            "800/800 [==============================] - 2s 3ms/step - loss: 0.3437 - accuracy: 0.8580\n",
            "Epoch 81/100\n",
            "800/800 [==============================] - 2s 3ms/step - loss: 0.3445 - accuracy: 0.8566\n",
            "Epoch 82/100\n",
            "800/800 [==============================] - 3s 4ms/step - loss: 0.3445 - accuracy: 0.8622\n",
            "Epoch 83/100\n",
            "800/800 [==============================] - 2s 3ms/step - loss: 0.3445 - accuracy: 0.8597\n",
            "Epoch 84/100\n",
            "800/800 [==============================] - 2s 2ms/step - loss: 0.3439 - accuracy: 0.8580\n",
            "Epoch 85/100\n",
            "800/800 [==============================] - 2s 3ms/step - loss: 0.3441 - accuracy: 0.8608\n",
            "Epoch 86/100\n",
            "800/800 [==============================] - 2s 2ms/step - loss: 0.3446 - accuracy: 0.8591\n",
            "Epoch 87/100\n",
            "800/800 [==============================] - 2s 3ms/step - loss: 0.3445 - accuracy: 0.8589\n",
            "Epoch 88/100\n",
            "800/800 [==============================] - 2s 2ms/step - loss: 0.3441 - accuracy: 0.8583\n",
            "Epoch 89/100\n",
            "800/800 [==============================] - 1s 2ms/step - loss: 0.3447 - accuracy: 0.8589\n",
            "Epoch 90/100\n",
            "800/800 [==============================] - 2s 2ms/step - loss: 0.3447 - accuracy: 0.8602\n",
            "Epoch 91/100\n",
            "800/800 [==============================] - 2s 3ms/step - loss: 0.3445 - accuracy: 0.8595\n",
            "Epoch 92/100\n",
            "800/800 [==============================] - 2s 2ms/step - loss: 0.3443 - accuracy: 0.8575\n",
            "Epoch 93/100\n",
            "800/800 [==============================] - 2s 2ms/step - loss: 0.3442 - accuracy: 0.8601\n",
            "Epoch 94/100\n",
            "800/800 [==============================] - 2s 3ms/step - loss: 0.3436 - accuracy: 0.8591\n",
            "Epoch 95/100\n",
            "800/800 [==============================] - 2s 2ms/step - loss: 0.3433 - accuracy: 0.8605\n",
            "Epoch 96/100\n",
            "800/800 [==============================] - 1s 1ms/step - loss: 0.3438 - accuracy: 0.8596\n",
            "Epoch 97/100\n",
            "800/800 [==============================] - 2s 2ms/step - loss: 0.3431 - accuracy: 0.8586\n",
            "Epoch 98/100\n",
            "800/800 [==============================] - 3s 3ms/step - loss: 0.3442 - accuracy: 0.8591\n",
            "Epoch 99/100\n",
            "800/800 [==============================] - 3s 3ms/step - loss: 0.3434 - accuracy: 0.8587\n",
            "Epoch 100/100\n",
            "800/800 [==============================] - 2s 3ms/step - loss: 0.3444 - accuracy: 0.8575\n"
          ]
        },
        {
          "output_type": "execute_result",
          "data": {
            "text/plain": [
              "<keras.callbacks.History at 0x7f499893c5b0>"
            ]
          },
          "metadata": {},
          "execution_count": 57
        }
      ]
    },
    {
      "cell_type": "code",
      "source": [
        "pred=classifier.predict(xtest)\n",
        "ypred=(pred>0.5)"
      ],
      "metadata": {
        "colab": {
          "base_uri": "https://localhost:8080/"
        },
        "id": "ieWL22kpbsHw",
        "outputId": "00faef79-f01a-4644-b618-d0ded5aa54e1"
      },
      "execution_count": 59,
      "outputs": [
        {
          "output_type": "stream",
          "name": "stdout",
          "text": [
            "63/63 [==============================] - 0s 3ms/step\n"
          ]
        }
      ]
    },
    {
      "cell_type": "code",
      "source": [
        "print(ypred)"
      ],
      "metadata": {
        "colab": {
          "base_uri": "https://localhost:8080/"
        },
        "id": "D8XkKhmrdkbf",
        "outputId": "8a32d4fc-96ce-4084-d898-8d71c558f5e3"
      },
      "execution_count": 60,
      "outputs": [
        {
          "output_type": "stream",
          "name": "stdout",
          "text": [
            "[[False]\n",
            " [False]\n",
            " [False]\n",
            " ...\n",
            " [False]\n",
            " [False]\n",
            " [False]]\n"
          ]
        }
      ]
    },
    {
      "cell_type": "code",
      "source": [
        "from sklearn.metrics import confusion_matrix,accuracy_score\n",
        "print(confusion_matrix(ytest,ypred))\n",
        "print(accuracy_score(ypred,ytest))"
      ],
      "metadata": {
        "colab": {
          "base_uri": "https://localhost:8080/"
        },
        "id": "6EasffpudoiC",
        "outputId": "e053b232-3b06-495c-affd-8a207cd3ab21"
      },
      "execution_count": 61,
      "outputs": [
        {
          "output_type": "stream",
          "name": "stdout",
          "text": [
            "[[1559   36]\n",
            " [ 226  179]]\n",
            "0.869\n"
          ]
        }
      ]
    },
    {
      "cell_type": "code",
      "source": [],
      "metadata": {
        "id": "eRJMk9Npek51"
      },
      "execution_count": 61,
      "outputs": []
    }
  ]
}